{
 "cells": [
  {
   "cell_type": "markdown",
   "id": "d9d036c6",
   "metadata": {},
   "source": [
    "# Problemas de prueba de hipótesis"
   ]
  },
  {
   "cell_type": "markdown",
   "id": "d157c4db",
   "metadata": {},
   "source": [
    "## Ejercicio 1\n",
    "\n",
    "Usted es un nutricionista que investiga dos tipos diferentes de dietas para ver si existe una diferencia significativa en la pérdida de peso después de un mes. Eliges dos grupos aleatorios de personas; un grupo sigue la primera dieta y el otro sigue la segunda. Al final del mes, se registra la pérdida de peso (en kg) de cada persona:\n",
    "\n",
    "| Diet 1 | Diet 2 |\n",
    "|:-------|:-------|\n",
    "| 2.0 | 3.0 |\n",
    "| 2.5 | 3.2 |\n",
    "| 3.0 | 3.1 |\n",
    "| 2.8 | 2.9 |\n",
    "| 2.3 | 2.8 |\n",
    "| 2.7 | 3.0 |\n",
    "| 2.5 | 3.2 |\n",
    "\n",
    "Con estos datos se busca responder a la siguiente pregunta: ¿Existe una diferencia significativa en la pérdida de peso promedio entre las personas que siguieron la primera dieta y las que siguieron la segunda dieta?\n",
    "\n",
    "Para sacar conclusiones, siga los siguientes puntos:\n",
    "\n",
    "-Enunciar la hipótesis: hipótesis nula y alternativa.\n",
    "-Realizar la prueba para comprobar la hipótesis. Puede utilizar la prueba t de Student.\n",
    "-Analizar las conclusiones."
   ]
  },
  {
   "cell_type": "code",
   "execution_count": 1,
   "id": "8e0f3cf0",
   "metadata": {},
   "outputs": [],
   "source": [
    "# Enunciar la hipótesis:\n",
    "\n",
    "h_null = 'There is no significant difference in weight loss between people who followed diet 1 and those who followed diet 2.'\n",
    "\n",
    "h_alternative = 'There is a significant difference in weight loss between people who followed diet 1 and those who followed diet 2.'"
   ]
  },
  {
   "cell_type": "code",
   "execution_count": 2,
   "id": "4739c2ba",
   "metadata": {},
   "outputs": [
    {
     "name": "stdout",
     "output_type": "stream",
     "text": [
      "t-statistic: -3.5383407969933938\n",
      "P-value: 0.004083270191713912\n",
      "There is a significant difference between the average weight loss of the two groups of people.\n"
     ]
    }
   ],
   "source": [
    "# Realizar prueba para comprobar la hipótesis:\n",
    "from scipy.stats import ttest_ind\n",
    "\n",
    "diet_1 = [2.0, 2.5, 3.0, 2.8, 2.3, 2.7, 2.5]\n",
    "diet_2 = [3.0, 3.2, 3.1, 2.9, 2.8, 3.0, 3.2]    \n",
    "\n",
    "t_statistic, p_value = ttest_ind(diet_1, diet_2)\n",
    "\n",
    "print(f't-statistic: {t_statistic}')\n",
    "print(f'P-value: {p_value}')\n",
    "\n",
    "if p_value < 0.05:\n",
    "    print('There is a significant difference between the average weight loss of the two groups of people.')\n",
    "else:\n",
    "    print('There is no significant difference between the average weight loss of the two groups of people.')"
   ]
  },
  {
   "cell_type": "code",
   "execution_count": 3,
   "id": "6ee281ae",
   "metadata": {},
   "outputs": [],
   "source": [
    "# Analñizar las conclusiones:\n",
    "\n",
    "h_conclusion = '''Since the P-value is less than the significance level of 0.05, we can conclude that there is a significant difference between \n",
    "the people who followed Diet 1 and those who followed Diet 2. Therefore, we reject the null hypothesis and accept the alternative hypothesis.'''"
   ]
  },
  {
   "cell_type": "markdown",
   "id": "f432e18e",
   "metadata": {},
   "source": [
    "## ANOVA\n",
    "\n",
    "**ANOVA** (*Analysis of Variance - Análisis de variación*) Es una técnica estadística utilizada para comparar las medidas de dos o más grupos. La idea detrás de ANOVA es descomponer la variabilidad total de los datos en dos componentes: variabilidad entre grupos y variabilidad dentro de los grupos:\n",
    "\n",
    "- **Variabilidad entre grupos**: Esta variabilidad se refiere a las diferencias entre las medias del grupo. Si esta variabilidad es considerablemente mayor que la variabilidad dentro del grupo, podría ser una indicación de que al menos una de las medias del grupo es diferente.\n",
    "- **Variabilidad dentro del grupo**: Esta variabilidad se refiere a la dispersión de los datos dentro de cada grupo. Si todos los grupos tienen una variabilidad similar, entonces cualquier diferencia notable en las medias de los grupos podría considerarse significativa.\n",
    "\n",
    "Las hipótesis en ANOVA suelen incluir:\n",
    "\n",
    "- **Hipótesis nula** ($H₀$): Las medias de todos los grupos son iguales.\n",
    "- **Hipótesis alternativa** ($H₁$): Al menos una de las medias del grupo es diferente.\n",
    "\n",
    "Si el resultado de la prueba ANOVA es significativo (por ejemplo, un valor p inferior a un umbral como 0,05), esto sugiere que al menos la media de un grupo es diferente."
   ]
  },
  {
   "cell_type": "markdown",
   "id": "fc5f3721",
   "metadata": {},
   "source": [
    "## Ejercicio 2\n",
    "\n",
    "Un agricultor decide probar tres tipos diferentes de fertilizantes para determinar si alguno es superior en términos de producción de maíz. El agricultor planta maíz en 15 parcelas idénticas y utiliza los tres fertilizantes (5 parcelas para cada tipo). Al final de la temporada mide el rendimiento de maíz (en kg) de cada parcela, con el siguiente resultado:\n",
    "\n",
    "| Fertilizante 1 | Fertilizante 2 | Fertilizante 3 |\n",
    "|:-------------|:-------------|:-------------|\n",
    "| 20 | 22 | 24 |\n",
    "| 21 | 21 | 23 |\n",
    "| 20 | 23 | 22 |\n",
    "| 19 | 22 | 23 |\n",
    "| 20 | 21 | 24 |\n",
    "\n",
    "Con estos datos busca responder la siguiente pregunta: ¿Existe una diferencia significativa en el rendimiento promedio del maíz entre los tres tipos de fertilizantes?\n",
    "\n",
    "Para ayudarte, sigue los siguientes puntos:\n",
    "\n",
    "-Enunciar la hipótesis: hipótesis nula y alternativa.\n",
    "-Realizar la prueba ANOVA.\n",
    "-Analizar las conclusiones.\n",
    "-Si un fertilizante es mejor que otro, ¿cómo podemos saberlo?"
   ]
  },
  {
   "cell_type": "code",
   "execution_count": 4,
   "id": "eecad0ca",
   "metadata": {},
   "outputs": [],
   "source": [
    "\n",
    "# Enunciar la hipótesis:\n",
    "\n",
    "h_null = 'There are no significant differences in average corn yield among the three types of fertilizers.'\n",
    "\n",
    "h_alternative = 'There are significant differences in average corn yield among the three types of fertilizers.'"
   ]
  },
  {
   "cell_type": "code",
   "execution_count": 5,
   "id": "63ff3aa7",
   "metadata": {},
   "outputs": [
    {
     "name": "stdout",
     "output_type": "stream",
     "text": [
      "f_statistic: 20.315789473684188\n",
      "p_value: 0.00014047824793190472\n",
      "There are significant differences in average corn yield among the three types of fertilizers.\n"
     ]
    }
   ],
   "source": [
    "# Realizar prueba para comprobar la hipótesis:\n",
    "from scipy import stats\n",
    "\n",
    "fertilizer_1 = [20, 21, 20, 19, 20]\n",
    "fertilizer_2 = [22, 21, 23, 22, 21]\n",
    "fertilizer_3 = [24, 23, 22, 23, 24]\n",
    "\n",
    "f_statistc, p_value = stats.f_oneway(fertilizer_1, fertilizer_2, fertilizer_3)\n",
    "\n",
    "print(f'f_statistic: {f_statistc}')\n",
    "print(f'p_value: {p_value}')\n",
    "\n",
    "if p_value < 0.05:\n",
    "    print('There are significant differences in average corn yield among the three types of fertilizers.')\n",
    "else:\n",
    "    print('There are no significant differences in average corn yield among the three types of fertilizers.')\n"
   ]
  },
  {
   "cell_type": "code",
   "execution_count": 6,
   "id": "2b224bd9",
   "metadata": {},
   "outputs": [],
   "source": [
    "# Analñizar las conclusiones:\n",
    "\n",
    "h_conclusion = '''Since the P-value is less than the significance level of 0.05, we can conclude that there are significant differences\n",
    "in average corn yield among the three types of fertilizers. Therefore, we reject the null hypothesis and accept the alternative hypothesis.'''"
   ]
  },
  {
   "cell_type": "code",
   "execution_count": 7,
   "id": "ff56dbbd",
   "metadata": {},
   "outputs": [
    {
     "name": "stdout",
     "output_type": "stream",
     "text": [
      "     Multiple Comparison of Means - Tukey HSD, FWER=0.05      \n",
      "==============================================================\n",
      "   group1       group2    meandiff p-adj  lower  upper  reject\n",
      "--------------------------------------------------------------\n",
      "Fertilizer 1 Fertilizer 2      1.8 0.0099 0.4572 3.1428   True\n",
      "Fertilizer 1 Fertilizer 3      3.2 0.0001 1.8572 4.5428   True\n",
      "Fertilizer 2 Fertilizer 3      1.4 0.0409 0.0572 2.7428   True\n",
      "--------------------------------------------------------------\n"
     ]
    }
   ],
   "source": [
    "# Cual es el mejor fertilizante: Prueba post-hoc de Tukey.\n",
    "# EN INTERNET ME DICE QUE PARA HACER LAS COMPARACIONES DE MANERA CORRECTA HE DE HACERLO REALIZANDO LA PRUEBA POST-HOC DE TUKEY, PERO EN LA MISMA\n",
    "# SE COMAPARAN LOS FERTILIZANTES ENTRE ELLOS PERO NO ME RESPONDE A LA CUESTION DE CUAL ES EL MEJOR. POR LO CUAL DEJO OTRO ESPACIO DE CODIGO MAS EN EL QUE\n",
    "# CALCULO LAS MEDIAS Y VERIFICO CUAL HA OBTENIDO MEJORES RESULTADOS. \n",
    "\n",
    "import numpy as np\n",
    "from statsmodels.stats.multicomp import pairwise_tukeyhsd\n",
    "\n",
    "f_data = np.concatenate([fertilizer_1, fertilizer_2, fertilizer_3]) # Concateno los datos en una sola variable.\n",
    "\n",
    "f_labels = ['Fertilizer 1'] * len(fertilizer_1) + ['Fertilizer 2'] * len(fertilizer_2) + ['Fertilizer 3'] * len(fertilizer_3) # Asigno una etiqueta a cada valor.\n",
    "\n",
    "tukey = pairwise_tukeyhsd(f_data, f_labels, alpha=0.05) \n",
    "print(tukey)\n"
   ]
  },
  {
   "cell_type": "code",
   "execution_count": 8,
   "id": "84c06b51",
   "metadata": {},
   "outputs": [
    {
     "name": "stdout",
     "output_type": "stream",
     "text": [
      "Media de Fertilizer 1: 20.0\n",
      "Media de Fertilizer 2: 21.8\n",
      "Media de Fertilizer 3: 23.2\n",
      "As we can see from the average corn yield, group three fertilizer has had the best performance.\n"
     ]
    }
   ],
   "source": [
    "mean_fertilizer_1 = np.mean(fertilizer_1)\n",
    "mean_fertilizer_2 = np.mean(fertilizer_2)\n",
    "mean_fertilizer_3 = np.mean(fertilizer_3)\n",
    "\n",
    "print(f\"Media de Fertilizer 1: {mean_fertilizer_1}\")\n",
    "print(f\"Media de Fertilizer 2: {mean_fertilizer_2}\")\n",
    "print(f\"Media de Fertilizer 3: {mean_fertilizer_3}\")\n",
    "print(f'As we can see from the average corn yield, group three fertilizer has had the best performance.')"
   ]
  }
 ],
 "metadata": {
  "kernelspec": {
   "display_name": "Python 3",
   "language": "python",
   "name": "python3"
  },
  "language_info": {
   "codemirror_mode": {
    "name": "ipython",
    "version": 3
   },
   "file_extension": ".py",
   "mimetype": "text/x-python",
   "name": "python",
   "nbconvert_exporter": "python",
   "pygments_lexer": "ipython3",
   "version": "3.13.1"
  }
 },
 "nbformat": 4,
 "nbformat_minor": 5
}
